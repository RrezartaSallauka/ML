{
 "cells": [
  {
   "cell_type": "code",
   "execution_count": 5,
   "metadata": {},
   "outputs": [],
   "source": [
    "import pandas as pd\n",
    "from sklearn import svm\n",
    "import numpy as np\n",
    "from sklearn.model_selection import ShuffleSplit\n",
    "from imblearn.over_sampling import SMOTE\n",
    "from sklearn.neighbors import KNeighborsClassifier\n",
    "from sklearn.decomposition import TruncatedSVD\n",
    "from sklearn.tree import DecisionTreeClassifier\n",
    "from sklearn.preprocessing import StandardScaler\n",
    "from sklearn.model_selection import train_test_split\n",
    "from sklearn.metrics import accuracy_score\n",
    "from sklearn.metrics import precision_recall_fscore_support\n",
    "from sklearn.feature_extraction.text import CountVectorizer\n",
    "from sklearn.naive_bayes import MultinomialNB\n",
    "from sklearn.decomposition import PCA\n",
    "from sklearn.pipeline import make_pipeline\n",
    "from sklearn.preprocessing import Normalizer\n",
    "import matplotlib.pyplot as plt\n",
    "from sklearn.linear_model import LogisticRegression\n",
    "from collections import Counter\n",
    "from sklearn.feature_extraction.text import TfidfVectorizer\n"
   ]
  },
  {
   "cell_type": "code",
   "execution_count": 6,
   "metadata": {},
   "outputs": [
    {
     "name": "stdout",
     "output_type": "stream",
     "text": [
      "       sentiment                                               text\n",
      "0              1               plus add commercial experience tacky\n",
      "1              0  really aggressive blast obnoxious entertainmen...\n",
      "2              0                               really big bad thing\n",
      "3              0  seriously would pay flight seat play really ba...\n",
      "4              1    yes nearly every time fly vx  ear worm  go away\n",
      "...          ...                                                ...\n",
      "11531          0  flight cancel flightled leave tomorrow morning...\n",
      "11532          0                            right cue delay ok hand\n",
      "11533          1                 thank get different flight chicago\n",
      "11534          0  leave minute late flight warn communication mi...\n",
      "11535          0  money change flight answer phone suggestion ma...\n",
      "\n",
      "[11536 rows x 2 columns]\n"
     ]
    }
   ],
   "source": [
    "fileName1 = r\"C:\\Users\\Desktop\\DetyraNeMachineLearning\\result17111.csv\"\n",
    "\n",
    "col_list1=['sentiment','text']\n",
    "data = pd.read_csv(r\"C:\\Users\\LED COM\\Desktop\\detyraNeMachineLearning\\result17111.csv\", usecols=col_list1)\n",
    "print(data)\n",
    "vect = CountVectorizer()"
   ]
  },
  {
   "cell_type": "code",
   "execution_count": 7,
   "metadata": {},
   "outputs": [],
   "source": [
    "model = MultinomialNB()"
   ]
  },
  {
   "cell_type": "code",
   "execution_count": 3,
   "metadata": {},
   "outputs": [],
   "source": [
    "model = svm.SVC()"
   ]
  },
  {
   "cell_type": "code",
   "execution_count": 3,
   "metadata": {},
   "outputs": [],
   "source": [
    "model=LogisticRegression()"
   ]
  },
  {
   "cell_type": "code",
   "execution_count": 3,
   "metadata": {},
   "outputs": [],
   "source": [
    "model = DecisionTreeClassifier()"
   ]
  },
  {
   "cell_type": "code",
   "execution_count": 3,
   "metadata": {},
   "outputs": [],
   "source": [
    "model = KNeighborsClassifier(n_neighbors=3)"
   ]
  },
  {
   "cell_type": "code",
   "execution_count": 8,
   "metadata": {},
   "outputs": [],
   "source": [
    "\n",
    "vect = TfidfVectorizer()\n",
    "\n",
    "tf_idf = TfidfVectorizer(\n",
    "                    ngram_range = (1,2),\n",
    "                    max_features = 70000,binary=True,max_df=0.9)"
   ]
  },
  {
   "cell_type": "code",
   "execution_count": 9,
   "metadata": {},
   "outputs": [
    {
     "name": "stdout",
     "output_type": "stream",
     "text": [
      "precision: 0.9111098231611775\n",
      "recall: 0.5868406702368528\n",
      "fscore: 0.6000522676400218\n",
      "accuracy: 0.8322501444251879\n"
     ]
    }
   ],
   "source": [
    "X = data['text']\n",
    "y = data['sentiment']\n",
    "ss = ShuffleSplit(n_splits=12, test_size=0.1)\n",
    "sm = SMOTE()\n",
    "precisionArray=[]\n",
    "recallArray=[]\n",
    "fscoreArray=[]\n",
    "accuracyArray=[]\n",
    "\n",
    "# X, y = sm.fit_resample(X, y)\n",
    "\n",
    "# plt.hist(y)\n",
    "# plt.xticks(np.arange(0, 2,1))\n",
    "# plt.show()\n",
    "# print(counter)\n",
    "\n",
    "for train_index, test_index in ss.split(X):\n",
    "    X_train, X_test = X.iloc[train_index], X.iloc[test_index]\n",
    "    y_train, y_test = y.iloc[train_index], y.iloc[test_index]\n",
    "\n",
    "    # Fit vectorizer and transform X train, then transform X test\n",
    "    X_train_vect = tf_idf.fit_transform(X_train.astype('U'))\n",
    "    # X_test_vect = vect.transform(X_test.astype('U'))\n",
    "    X_test_vect = tf_idf.transform(X_test.astype('U'))\n",
    "\n",
    "    # Oversample\n",
    "    model.fit(X_train_vect, y_train)\n",
    "    y_pred = model.predict(X_test_vect)\n",
    "    precision, recall, fscore, support = precision_recall_fscore_support(y_test, y_pred, average='macro')\n",
    "    precisionArray.append(precision)\n",
    "    recallArray.append(recall)\n",
    "    fscoreArray.append(fscore)\n",
    "    accuracyArray.append(accuracy_score(y_test, y_pred))\n",
    "\n",
    "\n",
    "print(f\"precision: {np.mean(precisionArray)}\")\n",
    "print(f\"recall: {np.mean(recallArray)}\")\n",
    "print(f\"fscore: {np.mean(fscoreArray)}\")\n",
    "print(f\"accuracy: {np.mean(accuracyArray)}\")"
   ]
  },
  {
   "cell_type": "code",
   "execution_count": 4,
   "metadata": {},
   "outputs": [],
   "source": [
    "X_train, X_test, y_train, y_test = train_test_split(data['text'].astype('U'), data['sentiment'].astype('U'), test_size=0.4, random_state=30)"
   ]
  },
  {
   "cell_type": "code",
   "execution_count": 10,
   "metadata": {},
   "outputs": [],
   "source": [
    "X_train, X_test, y_train, y_test = train_test_split(data['text'].astype('U'), data['sentiment'].astype('U'), test_size=0.4, random_state=30)"
   ]
  },
  {
   "cell_type": "code",
   "execution_count": 11,
   "metadata": {},
   "outputs": [
    {
     "name": "stdout",
     "output_type": "stream",
     "text": [
      "3237    thank rude customer service hour delay really ...\n",
      "6141    ca weekend attend training camp thank send gea...\n",
      "7413    word accommodation passenger us arrive charlot...\n",
      "2920    thank get daughter home cancelled flightled fl...\n",
      "1256                             subtlety gate change kid\n",
      "                              ...                        \n",
      "4859                                    holy fuckinf shit\n",
      "919     try makechange reservation get extremely frust...\n",
      "500     complete form doubt use ua care day vacation s...\n",
      "4517                    love imagine dragon flip much pls\n",
      "5925                                         thank update\n",
      "Name: text, Length: 6921, dtype: object\n",
      "accuracy: 0.8426868905742145\n",
      "precision: 0.9092423151285759\n",
      "recall: 0.6249708770745468\n",
      "fscore: 0.6547381546134663\n"
     ]
    }
   ],
   "source": [
    "print(X_train)\n",
    "X_train_set = vect.fit_transform(X_train)\n",
    "X_test_set = vect.transform(X_test)\n",
    "\n",
    "model.fit(X_train_set, y_train)\n",
    "y_pred = model.predict(X_test_set)\n",
    "precision, recall, fscore, support = precision_recall_fscore_support(y_test,y_pred,average='macro'  )\n",
    "print(f\"accuracy: {accuracy_score(y_test, y_pred)}\")\n",
    "print(f\"precision: {precision}\")\n",
    "print(f\"recall: {recall}\")\n",
    "print(f\"fscore: {fscore}\")"
   ]
  },
  {
   "cell_type": "code",
   "execution_count": null,
   "metadata": {},
   "outputs": [],
   "source": []
  }
 ],
 "metadata": {
  "kernelspec": {
   "display_name": "Python 3",
   "language": "python",
   "name": "python3"
  },
  "language_info": {
   "codemirror_mode": {
    "name": "ipython",
    "version": 3
   },
   "file_extension": ".py",
   "mimetype": "text/x-python",
   "name": "python",
   "nbconvert_exporter": "python",
   "pygments_lexer": "ipython3",
   "version": "3.8.3"
  }
 },
 "nbformat": 4,
 "nbformat_minor": 4
}
