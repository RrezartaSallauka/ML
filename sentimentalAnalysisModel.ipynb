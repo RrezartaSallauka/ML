{
 "cells": [
  {
   "cell_type": "code",
   "execution_count": 58,
   "metadata": {},
   "outputs": [],
   "source": [
    "import pandas as pd\n",
    "from sklearn import svm\n",
    "import numpy as np\n",
    "from sklearn.model_selection import ShuffleSplit\n",
    "from imblearn.over_sampling import SMOTE\n",
    "from sklearn.neighbors import KNeighborsClassifier\n",
    "from sklearn.decomposition import TruncatedSVD\n",
    "from sklearn.tree import DecisionTreeClassifier\n",
    "from sklearn.preprocessing import StandardScaler\n",
    "from sklearn.model_selection import train_test_split\n",
    "from sklearn.metrics import accuracy_score\n",
    "from sklearn.metrics import precision_recall_fscore_support\n",
    "from sklearn.feature_extraction.text import CountVectorizer\n",
    "from sklearn.naive_bayes import MultinomialNB\n",
    "from sklearn.decomposition import PCA\n",
    "from sklearn.pipeline import make_pipeline\n",
    "from sklearn.preprocessing import Normalizer\n",
    "import matplotlib.pyplot as plt\n",
    "from sklearn.linear_model import LogisticRegression\n",
    "from collections import Counter\n",
    "from sklearn.feature_extraction.text import TfidfVectorizer\n",
    "from sklearn.ensemble import RandomForestClassifier\n",
    "from sklearn.metrics import classification_report\n",
    "from sklearn.metrics import confusion_matrix"
   ]
  },
  {
   "cell_type": "code",
   "execution_count": 33,
   "metadata": {},
   "outputs": [
    {
     "data": {
      "image/png": "[encoded data removed]",
      "text/plain": [
       "<Figure size 432x288 with 1 Axes>"
      ]
     },
     "metadata": {
      "needs_background": "light"
     },
     "output_type": "display_data"
    }
   ],
   "source": [
    "df = pd.read_csv(\n",
    "    'Tweets.csv')\n",
    "plt.hist(df['airline'])\n",
    "plt.xticks(rotation=90)\n",
    "plt.show()"
   ]
  },
  {
   "cell_type": "code",
   "execution_count": 34,
   "metadata": {},
   "outputs": [
    {
     "data": {
      "image/png": "[encoded data removed]",
      "text/plain": [
       "<Figure size 432x288 with 1 Axes>"
      ]
     },
     "metadata": {
      "needs_background": "light"
     },
     "output_type": "display_data"
    }
   ],
   "source": [
    "plt.hist(df['sentiment'])\n",
    "plt.xticks(np.arange(0, 3,1))\n",
    "plt.show()"
   ]
  },
  {
   "cell_type": "code",
   "execution_count": 59,
   "metadata": {},
   "outputs": [
    {
     "name": "stdout",
     "output_type": "stream",
     "text": [
      "       sentiment                                               text\n",
      "0              1               plus add commercial experience tacky\n",
      "1              0  really aggressive blast obnoxious entertainmen...\n",
      "2              0                               really big bad thing\n",
      "3              0  seriously would pay flight seat play really ba...\n",
      "4              1    yes nearly every time fly vx  ear worm  go away\n",
      "...          ...                                                ...\n",
      "11531          0  flight cancel flightled leave tomorrow morning...\n",
      "11532          0                            right cue delay ok hand\n",
      "11533          1                 thank get different flight chicago\n",
      "11534          0  leave minute late flight warn communication mi...\n",
      "11535          0  money change flight answer phone suggestion ma...\n",
      "\n",
      "[11536 rows x 2 columns]\n"
     ]
    },
    {
     "data": {
      "image/png": "[encoded data removed]",
      "text/plain": [
       "<Figure size 432x288 with 1 Axes>"
      ]
     },
     "metadata": {
      "needs_background": "light"
     },
     "output_type": "display_data"
    }
   ],
   "source": [
    "col_list1=['sentiment','text']\n",
    "data = pd.read_csv(r\"result-2.csv\", usecols=col_list1)\n",
    "print(data)\n",
    "plt.hist(data['sentiment'])\n",
    "plt.xticks(np.arange(0, 3,1))\n",
    "plt.show()"
   ]
  },
  {
   "cell_type": "code",
   "execution_count": 29,
   "metadata": {},
   "outputs": [],
   "source": [
    "model = MultinomialNB(alpha=1.0, fit_prior=True, class_prior=None)"
   ]
  },
  {
   "cell_type": "code",
   "execution_count": 22,
   "metadata": {},
   "outputs": [],
   "source": [
    "model=LogisticRegression(penalty = 'l2',random_state = 0)"
   ]
  },
  {
   "cell_type": "code",
   "execution_count": 60,
   "metadata": {},
   "outputs": [],
   "source": [
    "model = KNeighborsClassifier(n_neighbors=2)"
   ]
  },
  {
   "cell_type": "code",
   "execution_count": 61,
   "metadata": {},
   "outputs": [],
   "source": [
    "vect = TfidfVectorizer()\n",
    "\n",
    "tf_idf = TfidfVectorizer(\n",
    "                    ngram_range = (1,2),\n",
    "                    max_features = 70000,binary=True,max_df=0.9)"
   ]
  },
  {
   "cell_type": "code",
   "execution_count": 62,
   "metadata": {
    "scrolled": true
   },
   "outputs": [
    {
     "name": "stdout",
     "output_type": "stream",
     "text": [
      "              precision    recall  f1-score   support\n",
      "\n",
      "           0       0.89      0.95      0.92       909\n",
      "           1       0.75      0.56      0.64       245\n",
      "\n",
      "    accuracy                           0.87      1154\n",
      "   macro avg       0.82      0.75      0.78      1154\n",
      "weighted avg       0.86      0.87      0.86      1154\n",
      "\n",
      "\n",
      "\n"
     ]
    },
    {
     "data": {
      "text/plain": [
       "array([[864,  45],\n",
       "       [108, 137]], dtype=int64)"
      ]
     },
     "execution_count": 62,
     "metadata": {},
     "output_type": "execute_result"
    }
   ],
   "source": [
    "X = data['text']\n",
    "y = data['sentiment']\n",
    "ss = ShuffleSplit(n_splits=12, test_size=0.1)\n",
    "precisionArray=[]\n",
    "recallArray=[]\n",
    "fscoreArray=[]\n",
    "accuracyArray=[]\n",
    "\n",
    "\n",
    "for train_index, test_index in ss.split(X):\n",
    "    X_train, X_test = X.iloc[train_index], X.iloc[test_index]\n",
    "    y_train, y_test = y.iloc[train_index], y.iloc[test_index]\n",
    "\n",
    "    # Fit vectorizer and transform X train, then transform X test\n",
    "    X_train_vect = tf_idf.fit_transform(X_train.astype('U'))\n",
    "    # X_test_vect = vect.transform(X_test.astype('U'))\n",
    "    X_test_vect = tf_idf.transform(X_test.astype('U'))\n",
    "\n",
    "    model.fit(X_train_vect, y_train)\n",
    "    y_pred = model.predict(X_test_vect)\n",
    "    precision, recall, fscore, support = precision_recall_fscore_support(y_test, y_pred, average='macro')\n",
    "    precisionArray.append(precision)\n",
    "    recallArray.append(recall)\n",
    "    fscoreArray.append(fscore)\n",
    "    accuracyArray.append(accuracy_score(y_test, y_pred))\n",
    "\n",
    "print(classification_report(y_test, y_pred))\n",
    "print(\"\\n\")\n",
    "confusion_matrix(y_test, y_pred)"
   ]
  },
  {
   "cell_type": "code",
   "execution_count": 66,
   "metadata": {},
   "outputs": [],
   "source": [
    "#vectorizer = CountVectorizer()\n",
    "#vectorizer.fit(X_train.values.ravel())\n",
    "#X_train=vectorizer.transform(X_train.values.ravel())\n",
    "#X_test=vectorizer.transform(X_test.values.ravel())\n",
    "#X_train=X_train.toarray()\n",
    "#X_test=X_test.toarray()\n",
    "\n",
    "#sm = SMOTE()\n",
    "\n",
    "#x_train = pd.DataFrame(X_train)\n",
    "#X_resample, y_resampled = SMOTE().fit_resample(X_train, y_train)\n",
    "\n",
    "#x_train = pd.DataFrame(X_train_vect)\n",
    "#X_train_new, y_train_new = sm.fit_resample(x_train, X_test_vect)\n",
    "\n",
    "#plt.hist(y)\n",
    "#plt.xticks(np.arange(0, 2,1))\n",
    "#plt.show()\n",
    "#print(counter)"
   ]
  },
  {
   "cell_type": "markdown",
   "metadata": {},
   "source": [
    "#### MultinomialNB \n",
    "precision: 0.9056974399407101\n",
    "\n",
    "recall: 0.5846138041140249\n",
    "\n",
    "fscore: 0.5962427946707881\n",
    "\n",
    "accuracy: 0.8303726169844022\n",
    "\n",
    "##### alpha=1.0, fit_prior=True, class_prior=None\n",
    "\n",
    " precision    recall  f1-score   support\n",
    "\n",
    "           0       0.83      1.00      0.91       926\n",
    "           1       1.00      0.20      0.33       228\n",
    "\n",
    "    accuracy                           0.84      1154\n",
    "    \n",
    "    macro avg       0.92      0.60      0.62      1154\n",
    "    \n",
    "    weighted avg       0.87      0.84      0.80      1154\n",
    "\n",
    "\n",
    "#### LogisticRegression\n",
    "\n",
    "precision: 0.8987716977883323\n",
    "\n",
    "recall: 0.7756743577684949\n",
    "\n",
    "fscore: 0.8174665328686332\n",
    "\n",
    "accuracy: 0.8988301559792027\n",
    "\n",
    "##### penalty = 'l2'  random_state = 0\n",
    "\n",
    "precision    recall  f1-score   support\n",
    "\n",
    "           0       0.90      0.99      0.94       921\n",
    "           1       0.91      0.58      0.71       233\n",
    "\n",
    "    accuracy                           0.90      1154\n",
    "\n",
    "    macro avg       0.91      0.78      0.82      1154\n",
    "   \n",
    "    weighted avg       0.90      0.90      0.89      1154\n",
    "\n",
    "#### ShuffleSplit(n_splits=20, test_size=0.2)\n",
    "\n",
    "precision: 0.8962883789481275\n",
    "\n",
    "recall: 0.773019051345958\n",
    "\n",
    "fscore: 0.814555036332985\n",
    "\n",
    "accuracy: 0.8967287694974002\n",
    "\n",
    "#### KNeighborsClassifier\n",
    "\n",
    "precision: 0.7880709240629341\n",
    "\n",
    "recall: 0.7912679928971146\n",
    "\n",
    "fscore: 0.7894401647423771\n",
    "\n",
    "accuracy: 0.8613518197573659\n",
    "\n",
    "##### n_neighbors=2\n",
    "\n",
    "              precision    recall  f1-score   support\n",
    "\n",
    "           0       0.89      0.95      0.92       909\n",
    "           1       0.75      0.56      0.64       245\n",
    "\n",
    "    accuracy                           0.87      1154\n",
    "    \n",
    "    macro avg       0.82      0.75      0.78      1154\n",
    "    \n",
    "    weighted avg       0.86      0.87      0.86      1154\n"
   ]
  },
  {
   "cell_type": "code",
   "execution_count": 63,
   "metadata": {},
   "outputs": [],
   "source": [
    "X_train, X_test, y_train, y_test = train_test_split(data['text'].astype('U'), data['sentiment'].astype('float'), test_size=0.4, random_state=30)"
   ]
  },
  {
   "cell_type": "code",
   "execution_count": 64,
   "metadata": {},
   "outputs": [
    {
     "name": "stdout",
     "output_type": "stream",
     "text": [
      "              precision    recall  f1-score   support\n",
      "\n",
      "         0.0       0.87      0.96      0.91      3651\n",
      "         1.0       0.74      0.47      0.58       964\n",
      "\n",
      "    accuracy                           0.85      4615\n",
      "   macro avg       0.80      0.71      0.74      4615\n",
      "weighted avg       0.84      0.85      0.84      4615\n",
      "\n",
      "\n",
      "\n"
     ]
    },
    {
     "data": {
      "text/plain": [
       "array([[3487,  164],\n",
       "       [ 507,  457]], dtype=int64)"
      ]
     },
     "execution_count": 64,
     "metadata": {},
     "output_type": "execute_result"
    }
   ],
   "source": [
    "X_train_set = vect.fit_transform(X_train)\n",
    "X_test_set = vect.transform(X_test)\n",
    "\n",
    "model.fit(X_train_set, y_train)\n",
    "y_pred = model.predict(X_test_set)\n",
    "precision, recall, fscore, support = precision_recall_fscore_support(y_test,y_pred,average='macro')\n",
    "\n",
    "print(classification_report(y_test, y_pred))\n",
    "print(\"\\n\")\n",
    "confusion_matrix(y_test, y_pred)\n",
    "\n"
   ]
  },
  {
   "cell_type": "markdown",
   "metadata": {},
   "source": [
    "#### MultinomialNB \n",
    "\n",
    "accuracy: 0.8426868905742145\n",
    "\n",
    "precision: 0.9092423151285759\n",
    "\n",
    "recall: 0.6249708770745468\n",
    "\n",
    "fscore: 0.6547381546134663\n",
    "\n",
    "\n",
    "##### alpha=1.0, fit_prior=True, class_prior=None\n",
    "\n",
    "              precision    recall  f1-score   support\n",
    "\n",
    "         0.0       0.83      1.00      0.91      3651\n",
    "         1.0       0.98      0.25      0.40       964\n",
    "\n",
    "    accuracy                           0.84      4615\n",
    "    \n",
    "    macro avg       0.91      0.62      0.65      4615\n",
    "    \n",
    "    weighted avg       0.87      0.84      0.80      4615\n",
    "\n",
    "\n",
    "#### LogisticRegression\n",
    "\n",
    "accuracy: 0.8964247020585049\n",
    "\n",
    "precision: 0.9018222513621668\n",
    "\n",
    "recall: 0.7726877533694514\n",
    "\n",
    "fscore: 0.8154459609054683\n",
    "\n",
    "\n",
    "##### test_size=0.2\n",
    "\n",
    "accuracy: 0.8535211267605634\n",
    "\n",
    "precision: 0.7783149061721737\n",
    "\n",
    "recall: 0.77916355548585\n",
    "\n",
    "fscore: 0.7787377011881642\n",
    "\n",
    "##### pa cross validation\n",
    "\n",
    "accuracy: 0.8973136915077989\n",
    "\n",
    "precision: 0.8866397125623041\n",
    "\n",
    "recall: 0.7760630937242876\n",
    "\n",
    "fscore: 0.8151005478404634\n",
    "\n",
    "##### penalty = 'l2'  random_state = 0\n",
    "\n",
    "              precision    recall  f1-score   support\n",
    "\n",
    "         0.0       0.89      0.99      0.94      3651\n",
    "         1.0       0.91      0.56      0.69       964\n",
    "\n",
    "    accuracy                           0.90      4615\n",
    "    \n",
    "    macro avg       0.90      0.77      0.82      4615\n",
    "    \n",
    "    weighted avg       0.90      0.90      0.89      4615\n",
    "\n",
    "#### KNeighborsClassifier\n",
    "\n",
    "accuracy: 0.8535211267605634\n",
    "\n",
    "precision: 0.7783149061721737\n",
    "\n",
    "recall: 0.77916355548585\n",
    "\n",
    "fscore: 0.7787377011881642\n",
    "\n",
    "##### n_neighbors=2\n",
    "\n",
    "              precision    recall  f1-score   support\n",
    "\n",
    "         0.0       0.87      0.96      0.91      3651\n",
    "         1.0       0.74      0.47      0.58       964\n",
    "\n",
    "    accuracy                           0.85      4615\n",
    "    \n",
    "    macro avg       0.80      0.71      0.74      4615\n",
    "    \n",
    "    weighted avg       0.84      0.85      0.84      4615\n"
   ]
  },
  {
   "cell_type": "code",
   "execution_count": 65,
   "metadata": {},
   "outputs": [
    {
     "data": {
      "text/plain": [
       "<matplotlib.collections.PathCollection at 0x155472042b0>"
      ]
     },
     "execution_count": 65,
     "metadata": {},
     "output_type": "execute_result"
    },
    {
     "data": {
      "image/png": "[encoded data removed]",
      "text/plain": [
       "<Figure size 432x288 with 1 Axes>"
      ]
     },
     "metadata": {
      "needs_background": "light"
     },
     "output_type": "display_data"
    }
   ],
   "source": [
    "plt.scatter(y_test,y_pred)"
   ]
  },
  {
   "cell_type": "code",
   "execution_count": 67,
   "metadata": {},
   "outputs": [
    {
     "data": {
      "image/png": "[encoded data removed]",
      "text/plain": [
       "<Figure size 432x288 with 1 Axes>"
      ]
     },
     "metadata": {
      "needs_background": "light"
     },
     "output_type": "display_data"
    }
   ],
   "source": [
    "from sklearn.metrics import roc_auc_score\n",
    "from sklearn.metrics import roc_curve\n",
    "logit_roc_auc = roc_auc_score(y_test, model.predict(X_test_set))\n",
    "fpr, tpr, thresholds = roc_curve(y_test, model.predict_proba(X_test_set)[:,1])\n",
    "plt.figure()\n",
    "plt.plot(fpr, tpr, label='Algorithm (area = %0.2f)' % logit_roc_auc)\n",
    "plt.plot([0, 1], [0, 1],'r--')\n",
    "plt.xlim([0.0, 1.0])\n",
    "plt.ylim([0.0, 1.05])\n",
    "plt.xlabel('False Positive Rate')\n",
    "plt.ylabel('True Positive Rate')\n",
    "plt.title('Receiver operating characteristic')\n",
    "plt.legend(loc=\"lower right\")\n",
    "plt.savefig('Log_ROC')\n",
    "plt.show()"
   ]
  }
 ],
 "metadata": {
  "kernelspec": {
   "display_name": "Python 3 (ipykernel)",
   "language": "python",
   "name": "python3"
  },
  "language_info": {
   "codemirror_mode": {
    "name": "ipython",
    "version": 3
   },
   "file_extension": ".py",
   "mimetype": "text/x-python",
   "name": "python",
   "nbconvert_exporter": "python",
   "pygments_lexer": "ipython3",
   "version": "3.9.12"
  }
 },
 "nbformat": 4,
 "nbformat_minor": 4
}
