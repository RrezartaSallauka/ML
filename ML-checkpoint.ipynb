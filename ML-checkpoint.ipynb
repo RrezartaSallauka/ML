{
 "cells": [
  {
   "cell_type": "code",
   "execution_count": 7,
   "metadata": {},
   "outputs": [
    {
     "name": "stdout",
     "output_type": "stream",
     "text": [
      "test\n"
     ]
    },
    {
     "name": "stderr",
     "output_type": "stream",
     "text": [
      "[nltk_data] Downloading package stopwords to C:\\Users\\LED\n",
      "[nltk_data]     COM\\AppData\\Roaming\\nltk_data...\n",
      "[nltk_data]   Package stopwords is already up-to-date!\n",
      "[nltk_data] Downloading package punkt to C:\\Users\\LED\n",
      "[nltk_data]     COM\\AppData\\Roaming\\nltk_data...\n",
      "[nltk_data]   Package punkt is already up-to-date!\n"
     ]
    }
   ],
   "source": [
    "import pandas as pd\n",
    "import emoji\n",
    "import nltk\n",
    "from nltk.corpus import stopwords\n",
    "nltk.download('stopwords')\n",
    "nltk.download('punkt')\n",
    "from nltk.tokenize import word_tokenize\n",
    "from nltk.stem import WordNetLemmatizer\n",
    "from nltk.corpus import wordnet\n",
    "import nltk\n",
    "import spacy\n",
    "import nltk\n",
    "from string import punctuation\n",
    "import re\n",
    "import csv\n",
    "def remove_punctuation(text):\n",
    "    return ''.join(char for char in text if char not in punctuation)\n",
    "\n",
    "def remove_stopwords(text):\n",
    "    text_tokens = word_tokenize(text)\n",
    "    return [word for word in text_tokens if not word in stopwords.words('english')]\n",
    "\n",
    "def lemmatisation(text):\n",
    "\n",
    "    nlp = spacy.load('en_core_web_sm')\n",
    "    doc = nlp(u''+text)\n",
    "    tokens = []\n",
    "    for token in doc:\n",
    "        tokens.append(token)\n",
    "\n",
    "    lemmatized_sentence = \" \".join([token.lemma_ for token in doc])\n",
    "    return (lemmatized_sentence)\n",
    "print(\"test\")\n",
    "\n",
    "def get_wordnet_pos(word):\n",
    "    \"\"\"Map POS tag to first character lemmatize() accepts\"\"\"\n",
    "    tag = nltk.pos_tag([word])[0][1][0].upper()\n",
    "    tag_dict = {\"J\": wordnet.ADJ,\n",
    "                \"N\": wordnet.NOUN,\n",
    "                \"V\": wordnet.VERB,\n",
    "                \"R\": wordnet.ADV}\n",
    "\n",
    "    return tag_dict.get(tag, wordnet.NOUN)\n",
    "\n",
    "def removeRepeatedLetters(text):\n",
    "    x = re.split(\"\\s\", text)\n",
    "    for i in range(0,len(x)):\n",
    "        for j in range(97,122):\n",
    "\n",
    "            x[i]=re.sub(chr(j)+'{3,}',chr(j)+chr(j),x[i])\n",
    "        for k in range(65, 90):\n",
    "\n",
    "            x[i] = re.sub(chr(k) + '{2,}', chr(k)+chr(k), x[i])\n",
    "    return \" \".join(x)\n",
    "\n",
    "def convert_emojis_to_words(text):\n",
    "    text = emoji.demojize(text)\n",
    "    text = text.replace(\":\", \" \")\n",
    "    text = ' '.join(text.split())\n",
    "\n",
    "    text = [s.replace('_', ' ') for s in text]\n",
    "\n",
    "    return remove_punctuation(text)\n",
    "\n",
    "def abbreviation_to_words(text):\n",
    "    j = 0\n",
    "    for string in text:\n",
    "        fileName = \"D:\\\\slang.txt\"\n",
    "        with open(fileName) as myCSVfile:\n",
    "            dataFromFile = csv.reader(myCSVfile, delimiter=\"=\")\n",
    "            string = re.sub('[^a-zA-Z0-9-_.]', '', string)\n",
    "            for row in dataFromFile:\n",
    "                if string.upper() == row[0]:\n",
    "                    text[j] = row[1].lower()\n",
    "            myCSVfile.close()\n",
    "        j = j + 1\n",
    "    return remove_punctuation(\" \".join(text)).split(\" \")\n",
    "\n"
   ]
  },
  {
   "cell_type": "code",
   "execution_count": null,
   "metadata": {},
   "outputs": [],
   "source": []
  },
  {
   "cell_type": "code",
   "execution_count": null,
   "metadata": {},
   "outputs": [],
   "source": []
  }
 ],
 "metadata": {
  "kernelspec": {
   "display_name": "Python 3 (ipykernel)",
   "language": "python",
   "name": "python3"
  },
  "language_info": {
   "codemirror_mode": {
    "name": "ipython",
    "version": 3
   },
   "file_extension": ".py",
   "mimetype": "text/x-python",
   "name": "python",
   "nbconvert_exporter": "python",
   "pygments_lexer": "ipython3",
   "version": "3.9.12"
  }
 },
 "nbformat": 4,
 "nbformat_minor": 4
}
